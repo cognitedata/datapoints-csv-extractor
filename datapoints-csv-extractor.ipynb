{
 "cells": [
  {
   "cell_type": "code",
   "execution_count": 1,
   "metadata": {},
   "outputs": [
    {
     "name": "stdout",
     "output_type": "stream",
     "text": [
      "Populating the interactive namespace from numpy and matplotlib\n"
     ]
    }
   ],
   "source": [
    "%pylab notebook\n",
    "import numpy as np\n",
    "import pandas as pd\n",
    "import os\n",
    "from datetime import datetime\n",
    "from cognite import CogniteClient\n",
    "from cognite.client.stable.datapoints import TimeseriesWithDatapoints, Datapoint\n",
    "import csv\n",
    "\n",
    "# sam-jetfire\n",
    "client = CogniteClient(api_key='API-KEY')"
   ]
  },
  {
   "cell_type": "code",
   "execution_count": 4,
   "metadata": {},
   "outputs": [],
   "source": [
    "# List of datapoints being processed \n",
    "current_dp = []\n",
    "\n",
    "# Maximum number of datapoints batched at once\n",
    "batch_max = 100\n",
    "\n",
    "# TO DO: LOOP THROUGH ALL CSVs STORED IN A GIVEN LOCATION \n",
    "\n",
    "# Read CSV\n",
    "df = pd.read_csv('../TebisSampleData/TEBIS_FK_1546297260.csv', encoding='latin-1', delimiter=';', quotechar='\"', index_col=0)\n",
    "\n",
    "# Remove first row (unit of data)\n",
    "df = df[1:]\n",
    "\n",
    "for index, row in df.iterrows():\n",
    "    for col in df:\n",
    "        \n",
    "        # Filter out null values\n",
    "        if pd.notnull(row[col]):\n",
    "            \n",
    "            # Post datapoints if list of datapoints being processed is greater than the maximum, then empty list\n",
    "            if len(current_dp) >= batch_max:\n",
    "                client.datapoints.post_multi_time_series_datapoints(current_dp)\n",
    "                current_dp = []\n",
    "            \n",
    "            # Format Datapoint and TimeseriesWithDatapoints\n",
    "            ts = str(col.rpartition(':')[2].strip())\n",
    "            dp = Datapoint(timestamp=int(index), value=float(row[col].replace(',', '.')))\n",
    "            current_dp.append(TimeseriesWithDatapoints(name=ts, datapoints=[dp]))\n",
    "\n",
    "# If list of datapoints being processed is not empty, post leftover datapoints\n",
    "if current_dp:\n",
    "    client.datapoints.post_multi_time_series_datapoints(current_dp)\n",
    "    current_dp = []"
   ]
  },
  {
   "cell_type": "code",
   "execution_count": null,
   "metadata": {},
   "outputs": [],
   "source": []
  }
 ],
 "metadata": {
  "kernelspec": {
   "display_name": "Python 3",
   "language": "python",
   "name": "python3"
  },
  "language_info": {
   "codemirror_mode": {
    "name": "ipython",
    "version": 3
   },
   "file_extension": ".py",
   "mimetype": "text/x-python",
   "name": "python",
   "nbconvert_exporter": "python",
   "pygments_lexer": "ipython3",
   "version": "3.7.2"
  }
 },
 "nbformat": 4,
 "nbformat_minor": 2
}
